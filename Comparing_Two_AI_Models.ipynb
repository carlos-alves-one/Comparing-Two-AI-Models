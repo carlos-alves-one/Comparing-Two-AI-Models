{
  "nbformat": 4,
  "nbformat_minor": 0,
  "metadata": {
    "colab": {
      "name": "Comparing-Two-AI-Models.ipynb",
      "provenance": [],
      "collapsed_sections": [],
      "authorship_tag": "ABX9TyPuXz+cfx15du/fo2dVCdu/",
      "include_colab_link": true
    },
    "kernelspec": {
      "name": "python3",
      "display_name": "Python 3"
    },
    "language_info": {
      "name": "python"
    }
  },
  "cells": [
    {
      "cell_type": "markdown",
      "metadata": {
        "id": "view-in-github",
        "colab_type": "text"
      },
      "source": [
        "<a href=\"https://colab.research.google.com/github/carlos-alves-one/Comparing-Two-AI-Models/blob/master/Comparing_Two_AI_Models.ipynb\" target=\"_parent\"><img src=\"https://colab.research.google.com/assets/colab-badge.svg\" alt=\"Open In Colab\"/></a>"
      ]
    },
    {
      "cell_type": "markdown",
      "source": [
        "## Goldsmiths University of London\n",
        "**Author....: Carlos Manuel de Oliveira Alves**<br>\n",
        "**Student..: cdeol003**<br>\n",
        "**Created..: 18/08/2022**"
      ],
      "metadata": {
        "id": "XJT1JaY2_J4s"
      }
    },
    {
      "cell_type": "code",
      "source": [
        "# import libraries\n",
        "import numpy as np      # linear algebra\n",
        "import pandas as pd     # data processing, CSV file I/O (e.g. pd.read_csv)\n",
        "from scipy import stats # statistics\n"
      ],
      "metadata": {
        "id": "f-6m7Mr8IMZ7"
      },
      "execution_count": null,
      "outputs": []
    }
  ]
}