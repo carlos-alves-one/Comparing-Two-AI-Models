{
  "nbformat": 4,
  "nbformat_minor": 0,
  "metadata": {
    "colab": {
      "name": "Comparing-Two-AI-Models.ipynb",
      "provenance": [],
      "collapsed_sections": [],
      "authorship_tag": "ABX9TyMetg1rRvtTOJpN+tCoXe9G",
      "include_colab_link": true
    },
    "kernelspec": {
      "name": "python3",
      "display_name": "Python 3"
    },
    "language_info": {
      "name": "python"
    }
  },
  "cells": [
    {
      "cell_type": "markdown",
      "metadata": {
        "id": "view-in-github",
        "colab_type": "text"
      },
      "source": [
        "<a href=\"https://colab.research.google.com/github/carlos-alves-one/Comparing-Two-AI-Models/blob/master/Comparing_Two_AI_Models.ipynb\" target=\"_parent\"><img src=\"https://colab.research.google.com/assets/colab-badge.svg\" alt=\"Open In Colab\"/></a>"
      ]
    },
    {
      "cell_type": "markdown",
      "source": [
        "## Goldsmiths University of London\n",
        "**Author....: Carlos Manuel de Oliveira Alves**<br>\n",
        "**Student..: cdeol003**<br>\n",
        "**Created..: 18/08/2022**"
      ],
      "metadata": {
        "id": "XJT1JaY2_J4s"
      }
    },
    {
      "cell_type": "markdown",
      "source": [
        "### Generate Sample Data"
      ],
      "metadata": {
        "id": "jED5P8AygVrc"
      }
    },
    {
      "cell_type": "code",
      "source": [
        "# import libraries\n",
        "import numpy as np      # linear algebra\n",
        "import pandas as pd     # data processing, CSV file I/O (e.g. pd.read_csv)\n",
        "from scipy import stats # statistics\n",
        "import sklearn.metrics as metrics\n",
        "import matplotlib.pyplot as plt # ploting the data\n",
        "import random"
      ],
      "metadata": {
        "id": "f-6m7Mr8IMZ7"
      },
      "execution_count": 16,
      "outputs": []
    },
    {
      "cell_type": "code",
      "source": [
        "# generate sample BLEU scores for paired t-test\n",
        "from numpy import random\n",
        "random.seed(0) # seed() method is used to initialize the random number generator\n",
        "\n",
        "# make bleu_x mean 0.63\n",
        "bleu_x = random.randint(0, 40, size = 500) / 100\n",
        "bleu_x = bleu_x - np.mean(bleu_x) + 0.63\n",
        "\n",
        "# make bleu_y mean 0.44\n",
        "bleu_y = random.randint(0, 70, size = 500) / 100\n",
        "bleu_y = bleu_y - np.mean(bleu_y) + 0.44\n",
        "\n",
        "# create a dictionary with the bleu's and store it in a file\n",
        "bleu_dict = {\"model1\": bleu_x, \"model2\": bleu_y}\n",
        "bleu_save = pd.DataFrame.from_dict(bleu_dict)\n",
        "bleu_save.to_csv('bleu_scores.csv')\n"
      ],
      "metadata": {
        "id": "wjsrp1ULULiY"
      },
      "execution_count": 17,
      "outputs": []
    },
    {
      "cell_type": "markdown",
      "source": [
        "### Paired t-test"
      ],
      "metadata": {
        "id": "vAZyacsVkJeh"
      }
    },
    {
      "cell_type": "markdown",
      "source": [
        "### Problem:\n",
        "**Model 1 BLEU scores $= x = (x_1, x_2,...,x_{500})$**<br>\n",
        "**Model 2 BLEU scores $= y = (y_1, y_2,...,y_{500})$**<br>\n",
        "**Difference $= d = x - y$**<br>"
      ],
      "metadata": {
        "id": "RK8Sf8cckQuR"
      }
    },
    {
      "cell_type": "code",
      "source": [
        "# read the dataframe\n",
        "bleus = pd.read_csv('bleu_scores.csv')\n",
        "\n",
        "# use the head function to print the first 10 rows of BLEU'S\n",
        "bleus.head()"
      ],
      "metadata": {
        "colab": {
          "base_uri": "https://localhost:8080/",
          "height": 206
        },
        "id": "iaxdHX02kNqK",
        "outputId": "9e5702b1-5512-4860-9ee6-272c4fea406e"
      },
      "execution_count": 18,
      "outputs": [
        {
          "output_type": "execute_result",
          "data": {
            "text/plain": [
              "   Unnamed: 0   model1   model2\n",
              "0           0  0.43552  0.44414\n",
              "1           1  0.46552  0.23414\n",
              "2           2  0.46552  0.77414\n",
              "3           3  0.82552  0.21414\n",
              "4           4  0.52552  0.38414"
            ],
            "text/html": [
              "\n",
              "  <div id=\"df-8ae2eedd-50ed-4c03-a04d-6ba0f6f02f53\">\n",
              "    <div class=\"colab-df-container\">\n",
              "      <div>\n",
              "<style scoped>\n",
              "    .dataframe tbody tr th:only-of-type {\n",
              "        vertical-align: middle;\n",
              "    }\n",
              "\n",
              "    .dataframe tbody tr th {\n",
              "        vertical-align: top;\n",
              "    }\n",
              "\n",
              "    .dataframe thead th {\n",
              "        text-align: right;\n",
              "    }\n",
              "</style>\n",
              "<table border=\"1\" class=\"dataframe\">\n",
              "  <thead>\n",
              "    <tr style=\"text-align: right;\">\n",
              "      <th></th>\n",
              "      <th>Unnamed: 0</th>\n",
              "      <th>model1</th>\n",
              "      <th>model2</th>\n",
              "    </tr>\n",
              "  </thead>\n",
              "  <tbody>\n",
              "    <tr>\n",
              "      <th>0</th>\n",
              "      <td>0</td>\n",
              "      <td>0.43552</td>\n",
              "      <td>0.44414</td>\n",
              "    </tr>\n",
              "    <tr>\n",
              "      <th>1</th>\n",
              "      <td>1</td>\n",
              "      <td>0.46552</td>\n",
              "      <td>0.23414</td>\n",
              "    </tr>\n",
              "    <tr>\n",
              "      <th>2</th>\n",
              "      <td>2</td>\n",
              "      <td>0.46552</td>\n",
              "      <td>0.77414</td>\n",
              "    </tr>\n",
              "    <tr>\n",
              "      <th>3</th>\n",
              "      <td>3</td>\n",
              "      <td>0.82552</td>\n",
              "      <td>0.21414</td>\n",
              "    </tr>\n",
              "    <tr>\n",
              "      <th>4</th>\n",
              "      <td>4</td>\n",
              "      <td>0.52552</td>\n",
              "      <td>0.38414</td>\n",
              "    </tr>\n",
              "  </tbody>\n",
              "</table>\n",
              "</div>\n",
              "      <button class=\"colab-df-convert\" onclick=\"convertToInteractive('df-8ae2eedd-50ed-4c03-a04d-6ba0f6f02f53')\"\n",
              "              title=\"Convert this dataframe to an interactive table.\"\n",
              "              style=\"display:none;\">\n",
              "        \n",
              "  <svg xmlns=\"http://www.w3.org/2000/svg\" height=\"24px\"viewBox=\"0 0 24 24\"\n",
              "       width=\"24px\">\n",
              "    <path d=\"M0 0h24v24H0V0z\" fill=\"none\"/>\n",
              "    <path d=\"M18.56 5.44l.94 2.06.94-2.06 2.06-.94-2.06-.94-.94-2.06-.94 2.06-2.06.94zm-11 1L8.5 8.5l.94-2.06 2.06-.94-2.06-.94L8.5 2.5l-.94 2.06-2.06.94zm10 10l.94 2.06.94-2.06 2.06-.94-2.06-.94-.94-2.06-.94 2.06-2.06.94z\"/><path d=\"M17.41 7.96l-1.37-1.37c-.4-.4-.92-.59-1.43-.59-.52 0-1.04.2-1.43.59L10.3 9.45l-7.72 7.72c-.78.78-.78 2.05 0 2.83L4 21.41c.39.39.9.59 1.41.59.51 0 1.02-.2 1.41-.59l7.78-7.78 2.81-2.81c.8-.78.8-2.07 0-2.86zM5.41 20L4 18.59l7.72-7.72 1.47 1.35L5.41 20z\"/>\n",
              "  </svg>\n",
              "      </button>\n",
              "      \n",
              "  <style>\n",
              "    .colab-df-container {\n",
              "      display:flex;\n",
              "      flex-wrap:wrap;\n",
              "      gap: 12px;\n",
              "    }\n",
              "\n",
              "    .colab-df-convert {\n",
              "      background-color: #E8F0FE;\n",
              "      border: none;\n",
              "      border-radius: 50%;\n",
              "      cursor: pointer;\n",
              "      display: none;\n",
              "      fill: #1967D2;\n",
              "      height: 32px;\n",
              "      padding: 0 0 0 0;\n",
              "      width: 32px;\n",
              "    }\n",
              "\n",
              "    .colab-df-convert:hover {\n",
              "      background-color: #E2EBFA;\n",
              "      box-shadow: 0px 1px 2px rgba(60, 64, 67, 0.3), 0px 1px 3px 1px rgba(60, 64, 67, 0.15);\n",
              "      fill: #174EA6;\n",
              "    }\n",
              "\n",
              "    [theme=dark] .colab-df-convert {\n",
              "      background-color: #3B4455;\n",
              "      fill: #D2E3FC;\n",
              "    }\n",
              "\n",
              "    [theme=dark] .colab-df-convert:hover {\n",
              "      background-color: #434B5C;\n",
              "      box-shadow: 0px 1px 3px 1px rgba(0, 0, 0, 0.15);\n",
              "      filter: drop-shadow(0px 1px 2px rgba(0, 0, 0, 0.3));\n",
              "      fill: #FFFFFF;\n",
              "    }\n",
              "  </style>\n",
              "\n",
              "      <script>\n",
              "        const buttonEl =\n",
              "          document.querySelector('#df-8ae2eedd-50ed-4c03-a04d-6ba0f6f02f53 button.colab-df-convert');\n",
              "        buttonEl.style.display =\n",
              "          google.colab.kernel.accessAllowed ? 'block' : 'none';\n",
              "\n",
              "        async function convertToInteractive(key) {\n",
              "          const element = document.querySelector('#df-8ae2eedd-50ed-4c03-a04d-6ba0f6f02f53');\n",
              "          const dataTable =\n",
              "            await google.colab.kernel.invokeFunction('convertToInteractive',\n",
              "                                                     [key], {});\n",
              "          if (!dataTable) return;\n",
              "\n",
              "          const docLinkHtml = 'Like what you see? Visit the ' +\n",
              "            '<a target=\"_blank\" href=https://colab.research.google.com/notebooks/data_table.ipynb>data table notebook</a>'\n",
              "            + ' to learn more about interactive tables.';\n",
              "          element.innerHTML = '';\n",
              "          dataTable['output_type'] = 'display_data';\n",
              "          await google.colab.output.renderOutput(dataTable, element);\n",
              "          const docLink = document.createElement('div');\n",
              "          docLink.innerHTML = docLinkHtml;\n",
              "          element.appendChild(docLink);\n",
              "        }\n",
              "      </script>\n",
              "    </div>\n",
              "  </div>\n",
              "  "
            ]
          },
          "metadata": {},
          "execution_count": 18
        }
      ]
    },
    {
      "cell_type": "code",
      "source": [
        "# find the means of the BLEUS\n",
        "np.mean(bleus) # the mean function returns the average of the array element"
      ],
      "metadata": {
        "colab": {
          "base_uri": "https://localhost:8080/"
        },
        "id": "I1eQuGTJnp0x",
        "outputId": "ed446dee-2d0c-41a1-e370-c5ea08acaf52"
      },
      "execution_count": 19,
      "outputs": [
        {
          "output_type": "execute_result",
          "data": {
            "text/plain": [
              "Unnamed: 0    249.50\n",
              "model1          0.63\n",
              "model2          0.44\n",
              "dtype: float64"
            ]
          },
          "metadata": {},
          "execution_count": 19
        }
      ]
    },
    {
      "cell_type": "code",
      "source": [
        "# check distribution of model 1\n",
        "plt.hist(bleus['model1'])"
      ],
      "metadata": {
        "id": "cIECOeAxp2R1",
        "colab": {
          "base_uri": "https://localhost:8080/",
          "height": 336
        },
        "outputId": "e0963eb0-3501-459c-f7b9-8cf24b3a22c4"
      },
      "execution_count": 20,
      "outputs": [
        {
          "output_type": "execute_result",
          "data": {
            "text/plain": [
              "(array([59., 48., 50., 41., 49., 52., 48., 50., 56., 47.]),\n",
              " array([0.43552, 0.47452, 0.51352, 0.55252, 0.59152, 0.63052, 0.66952,\n",
              "        0.70852, 0.74752, 0.78652, 0.82552]),\n",
              " <a list of 10 Patch objects>)"
            ]
          },
          "metadata": {},
          "execution_count": 20
        },
        {
          "output_type": "display_data",
          "data": {
            "text/plain": [
              "<Figure size 432x288 with 1 Axes>"
            ],
            "image/png": "[encoded data removed]"
          },
          "metadata": {
            "needs_background": "light"
          }
        }
      ]
    },
    {
      "cell_type": "code",
      "source": [
        "# check distribution of model 2\n",
        "plt.hist(bleus['model2'])"
      ],
      "metadata": {
        "id": "QstwMraaq4sS",
        "colab": {
          "base_uri": "https://localhost:8080/",
          "height": 336
        },
        "outputId": "29a75e44-07d1-4336-f131-8b322fc46fdf"
      },
      "execution_count": 21,
      "outputs": [
        {
          "output_type": "execute_result",
          "data": {
            "text/plain": [
              "(array([61., 57., 50., 47., 61., 50., 38., 45., 43., 48.]),\n",
              " array([0.11414, 0.18314, 0.25214, 0.32114, 0.39014, 0.45914, 0.52814,\n",
              "        0.59714, 0.66614, 0.73514, 0.80414]),\n",
              " <a list of 10 Patch objects>)"
            ]
          },
          "metadata": {},
          "execution_count": 21
        },
        {
          "output_type": "display_data",
          "data": {
            "text/plain": [
              "<Figure size 432x288 with 1 Axes>"
            ],
            "image/png": "[encoded data removed]"
          },
          "metadata": {
            "needs_background": "light"
          }
        }
      ]
    },
    {
      "cell_type": "markdown",
      "source": [
        "###Formula\n",
        "![image.png](data:image/png;base64,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)"
      ],
      "metadata": {
        "id": "MAwAczMmsuQC"
      }
    },
    {
      "cell_type": "markdown",
      "source": [
        "###Question\n",
        "Is $d$ statistically larger than 0?\n",
        "\n",
        "###Hypotheses\n",
        "$H_0: d > 0$, $H_1: d <= 0$"
      ],
      "metadata": {
        "id": "pogeAwzhykWq"
      }
    },
    {
      "cell_type": "code",
      "source": [
        "# compute statistic\n",
        "n = 500 # n is the constant\n",
        "d = bleus['model1'] - bleus['model2'] # store the difference of two models\n",
        "\n",
        "# define the numerator according the formula\n",
        "num = np.sum(d)\n",
        "\n",
        "# define the denominator according the formula\n",
        "denom = np.sqrt((n*np.sum(d**2) - (np.sum(d)**2)) / (n-1))\n",
        "\n",
        "# t-statistic in the formula\n",
        "t = num / denom\n",
        "\n",
        "# compare the t-statistic to the critical value\n",
        "alpha = 0.05 # significant level for one-sided test\n",
        "\n",
        "# derive the critical value directly extract it from the statistic package\n",
        "critical_val = stats.t.ppf(1-alpha, n-1)\n",
        "\n",
        "# check the superiority of the models\n",
        "if t > critical_val:\n",
        "  print(\"Model 1 is better!\")\n",
        "else:\n",
        "  print(\"Fail to conclude superiority!\")"
      ],
      "metadata": {
        "id": "e0LS_H3ws-Fh",
        "colab": {
          "base_uri": "https://localhost:8080/"
        },
        "outputId": "46ad9a94-4c28-4df6-debf-0ef1c3ad2b36"
      },
      "execution_count": 22,
      "outputs": [
        {
          "output_type": "stream",
          "name": "stdout",
          "text": [
            "Model 1 is better!\n"
          ]
        }
      ]
    },
    {
      "cell_type": "markdown",
      "source": [
        "###Bootstrapping (AUC)"
      ],
      "metadata": {
        "id": "W-8UejXyBXI2"
      }
    },
    {
      "cell_type": "code",
      "source": [
        "# load the dataset already created\n",
        "preds = pd.read_csv('probabilities.csv')"
      ],
      "metadata": {
        "colab": {
          "base_uri": "https://localhost:8080/",
          "height": 351
        },
        "id": "jHoRcIElBe7B",
        "outputId": "9290b3c4-57ce-4913-ea29-68a6531a7373"
      },
      "execution_count": 23,
      "outputs": [
        {
          "output_type": "error",
          "ename": "FileNotFoundError",
          "evalue": "ignored",
          "traceback": [
            "\u001b[0;31m---------------------------------------------------------------------------\u001b[0m",
            "\u001b[0;31mFileNotFoundError\u001b[0m                         Traceback (most recent call last)",
            "\u001b[0;32m<ipython-input-23-2237138047eb>\u001b[0m in \u001b[0;36m<module>\u001b[0;34m\u001b[0m\n\u001b[1;32m      1\u001b[0m \u001b[0;31m# load the dataset already created\u001b[0m\u001b[0;34m\u001b[0m\u001b[0;34m\u001b[0m\u001b[0;34m\u001b[0m\u001b[0m\n\u001b[0;32m----> 2\u001b[0;31m \u001b[0mpreds\u001b[0m \u001b[0;34m=\u001b[0m \u001b[0mpd\u001b[0m\u001b[0;34m.\u001b[0m\u001b[0mread_csv\u001b[0m\u001b[0;34m(\u001b[0m\u001b[0;34m'probabilities.csv'\u001b[0m\u001b[0;34m)\u001b[0m\u001b[0;34m\u001b[0m\u001b[0;34m\u001b[0m\u001b[0m\n\u001b[0m",
            "\u001b[0;32m/usr/local/lib/python3.7/dist-packages/pandas/util/_decorators.py\u001b[0m in \u001b[0;36mwrapper\u001b[0;34m(*args, **kwargs)\u001b[0m\n\u001b[1;32m    309\u001b[0m                     \u001b[0mstacklevel\u001b[0m\u001b[0;34m=\u001b[0m\u001b[0mstacklevel\u001b[0m\u001b[0;34m,\u001b[0m\u001b[0;34m\u001b[0m\u001b[0;34m\u001b[0m\u001b[0m\n\u001b[1;32m    310\u001b[0m                 )\n\u001b[0;32m--> 311\u001b[0;31m             \u001b[0;32mreturn\u001b[0m \u001b[0mfunc\u001b[0m\u001b[0;34m(\u001b[0m\u001b[0;34m*\u001b[0m\u001b[0margs\u001b[0m\u001b[0;34m,\u001b[0m \u001b[0;34m**\u001b[0m\u001b[0mkwargs\u001b[0m\u001b[0;34m)\u001b[0m\u001b[0;34m\u001b[0m\u001b[0;34m\u001b[0m\u001b[0m\n\u001b[0m\u001b[1;32m    312\u001b[0m \u001b[0;34m\u001b[0m\u001b[0m\n\u001b[1;32m    313\u001b[0m         \u001b[0;32mreturn\u001b[0m \u001b[0mwrapper\u001b[0m\u001b[0;34m\u001b[0m\u001b[0;34m\u001b[0m\u001b[0m\n",
            "\u001b[0;32m/usr/local/lib/python3.7/dist-packages/pandas/io/parsers/readers.py\u001b[0m in \u001b[0;36mread_csv\u001b[0;34m(filepath_or_buffer, sep, delimiter, header, names, index_col, usecols, squeeze, prefix, mangle_dupe_cols, dtype, engine, converters, true_values, false_values, skipinitialspace, skiprows, skipfooter, nrows, na_values, keep_default_na, na_filter, verbose, skip_blank_lines, parse_dates, infer_datetime_format, keep_date_col, date_parser, dayfirst, cache_dates, iterator, chunksize, compression, thousands, decimal, lineterminator, quotechar, quoting, doublequote, escapechar, comment, encoding, encoding_errors, dialect, error_bad_lines, warn_bad_lines, on_bad_lines, delim_whitespace, low_memory, memory_map, float_precision, storage_options)\u001b[0m\n\u001b[1;32m    584\u001b[0m     \u001b[0mkwds\u001b[0m\u001b[0;34m.\u001b[0m\u001b[0mupdate\u001b[0m\u001b[0;34m(\u001b[0m\u001b[0mkwds_defaults\u001b[0m\u001b[0;34m)\u001b[0m\u001b[0;34m\u001b[0m\u001b[0;34m\u001b[0m\u001b[0m\n\u001b[1;32m    585\u001b[0m \u001b[0;34m\u001b[0m\u001b[0m\n\u001b[0;32m--> 586\u001b[0;31m     \u001b[0;32mreturn\u001b[0m \u001b[0m_read\u001b[0m\u001b[0;34m(\u001b[0m\u001b[0mfilepath_or_buffer\u001b[0m\u001b[0;34m,\u001b[0m \u001b[0mkwds\u001b[0m\u001b[0;34m)\u001b[0m\u001b[0;34m\u001b[0m\u001b[0;34m\u001b[0m\u001b[0m\n\u001b[0m\u001b[1;32m    587\u001b[0m \u001b[0;34m\u001b[0m\u001b[0m\n\u001b[1;32m    588\u001b[0m \u001b[0;34m\u001b[0m\u001b[0m\n",
            "\u001b[0;32m/usr/local/lib/python3.7/dist-packages/pandas/io/parsers/readers.py\u001b[0m in \u001b[0;36m_read\u001b[0;34m(filepath_or_buffer, kwds)\u001b[0m\n\u001b[1;32m    480\u001b[0m \u001b[0;34m\u001b[0m\u001b[0m\n\u001b[1;32m    481\u001b[0m     \u001b[0;31m# Create the parser.\u001b[0m\u001b[0;34m\u001b[0m\u001b[0;34m\u001b[0m\u001b[0;34m\u001b[0m\u001b[0m\n\u001b[0;32m--> 482\u001b[0;31m     \u001b[0mparser\u001b[0m \u001b[0;34m=\u001b[0m \u001b[0mTextFileReader\u001b[0m\u001b[0;34m(\u001b[0m\u001b[0mfilepath_or_buffer\u001b[0m\u001b[0;34m,\u001b[0m \u001b[0;34m**\u001b[0m\u001b[0mkwds\u001b[0m\u001b[0;34m)\u001b[0m\u001b[0;34m\u001b[0m\u001b[0;34m\u001b[0m\u001b[0m\n\u001b[0m\u001b[1;32m    483\u001b[0m \u001b[0;34m\u001b[0m\u001b[0m\n\u001b[1;32m    484\u001b[0m     \u001b[0;32mif\u001b[0m \u001b[0mchunksize\u001b[0m \u001b[0;32mor\u001b[0m \u001b[0miterator\u001b[0m\u001b[0;34m:\u001b[0m\u001b[0;34m\u001b[0m\u001b[0;34m\u001b[0m\u001b[0m\n",
            "\u001b[0;32m/usr/local/lib/python3.7/dist-packages/pandas/io/parsers/readers.py\u001b[0m in \u001b[0;36m__init__\u001b[0;34m(self, f, engine, **kwds)\u001b[0m\n\u001b[1;32m    809\u001b[0m             \u001b[0mself\u001b[0m\u001b[0;34m.\u001b[0m\u001b[0moptions\u001b[0m\u001b[0;34m[\u001b[0m\u001b[0;34m\"has_index_names\"\u001b[0m\u001b[0;34m]\u001b[0m \u001b[0;34m=\u001b[0m \u001b[0mkwds\u001b[0m\u001b[0;34m[\u001b[0m\u001b[0;34m\"has_index_names\"\u001b[0m\u001b[0;34m]\u001b[0m\u001b[0;34m\u001b[0m\u001b[0;34m\u001b[0m\u001b[0m\n\u001b[1;32m    810\u001b[0m \u001b[0;34m\u001b[0m\u001b[0m\n\u001b[0;32m--> 811\u001b[0;31m         \u001b[0mself\u001b[0m\u001b[0;34m.\u001b[0m\u001b[0m_engine\u001b[0m \u001b[0;34m=\u001b[0m \u001b[0mself\u001b[0m\u001b[0;34m.\u001b[0m\u001b[0m_make_engine\u001b[0m\u001b[0;34m(\u001b[0m\u001b[0mself\u001b[0m\u001b[0;34m.\u001b[0m\u001b[0mengine\u001b[0m\u001b[0;34m)\u001b[0m\u001b[0;34m\u001b[0m\u001b[0;34m\u001b[0m\u001b[0m\n\u001b[0m\u001b[1;32m    812\u001b[0m \u001b[0;34m\u001b[0m\u001b[0m\n\u001b[1;32m    813\u001b[0m     \u001b[0;32mdef\u001b[0m \u001b[0mclose\u001b[0m\u001b[0;34m(\u001b[0m\u001b[0mself\u001b[0m\u001b[0;34m)\u001b[0m\u001b[0;34m:\u001b[0m\u001b[0;34m\u001b[0m\u001b[0;34m\u001b[0m\u001b[0m\n",
            "\u001b[0;32m/usr/local/lib/python3.7/dist-packages/pandas/io/parsers/readers.py\u001b[0m in \u001b[0;36m_make_engine\u001b[0;34m(self, engine)\u001b[0m\n\u001b[1;32m   1038\u001b[0m             )\n\u001b[1;32m   1039\u001b[0m         \u001b[0;31m# error: Too many arguments for \"ParserBase\"\u001b[0m\u001b[0;34m\u001b[0m\u001b[0;34m\u001b[0m\u001b[0;34m\u001b[0m\u001b[0m\n\u001b[0;32m-> 1040\u001b[0;31m         \u001b[0;32mreturn\u001b[0m \u001b[0mmapping\u001b[0m\u001b[0;34m[\u001b[0m\u001b[0mengine\u001b[0m\u001b[0;34m]\u001b[0m\u001b[0;34m(\u001b[0m\u001b[0mself\u001b[0m\u001b[0;34m.\u001b[0m\u001b[0mf\u001b[0m\u001b[0;34m,\u001b[0m \u001b[0;34m**\u001b[0m\u001b[0mself\u001b[0m\u001b[0;34m.\u001b[0m\u001b[0moptions\u001b[0m\u001b[0;34m)\u001b[0m  \u001b[0;31m# type: ignore[call-arg]\u001b[0m\u001b[0;34m\u001b[0m\u001b[0;34m\u001b[0m\u001b[0m\n\u001b[0m\u001b[1;32m   1041\u001b[0m \u001b[0;34m\u001b[0m\u001b[0m\n\u001b[1;32m   1042\u001b[0m     \u001b[0;32mdef\u001b[0m \u001b[0m_failover_to_python\u001b[0m\u001b[0;34m(\u001b[0m\u001b[0mself\u001b[0m\u001b[0;34m)\u001b[0m\u001b[0;34m:\u001b[0m\u001b[0;34m\u001b[0m\u001b[0;34m\u001b[0m\u001b[0m\n",
            "\u001b[0;32m/usr/local/lib/python3.7/dist-packages/pandas/io/parsers/c_parser_wrapper.py\u001b[0m in \u001b[0;36m__init__\u001b[0;34m(self, src, **kwds)\u001b[0m\n\u001b[1;32m     49\u001b[0m \u001b[0;34m\u001b[0m\u001b[0m\n\u001b[1;32m     50\u001b[0m         \u001b[0;31m# open handles\u001b[0m\u001b[0;34m\u001b[0m\u001b[0;34m\u001b[0m\u001b[0;34m\u001b[0m\u001b[0m\n\u001b[0;32m---> 51\u001b[0;31m         \u001b[0mself\u001b[0m\u001b[0;34m.\u001b[0m\u001b[0m_open_handles\u001b[0m\u001b[0;34m(\u001b[0m\u001b[0msrc\u001b[0m\u001b[0;34m,\u001b[0m \u001b[0mkwds\u001b[0m\u001b[0;34m)\u001b[0m\u001b[0;34m\u001b[0m\u001b[0;34m\u001b[0m\u001b[0m\n\u001b[0m\u001b[1;32m     52\u001b[0m         \u001b[0;32massert\u001b[0m \u001b[0mself\u001b[0m\u001b[0;34m.\u001b[0m\u001b[0mhandles\u001b[0m \u001b[0;32mis\u001b[0m \u001b[0;32mnot\u001b[0m \u001b[0;32mNone\u001b[0m\u001b[0;34m\u001b[0m\u001b[0;34m\u001b[0m\u001b[0m\n\u001b[1;32m     53\u001b[0m \u001b[0;34m\u001b[0m\u001b[0m\n",
            "\u001b[0;32m/usr/local/lib/python3.7/dist-packages/pandas/io/parsers/base_parser.py\u001b[0m in \u001b[0;36m_open_handles\u001b[0;34m(self, src, kwds)\u001b[0m\n\u001b[1;32m    227\u001b[0m             \u001b[0mmemory_map\u001b[0m\u001b[0;34m=\u001b[0m\u001b[0mkwds\u001b[0m\u001b[0;34m.\u001b[0m\u001b[0mget\u001b[0m\u001b[0;34m(\u001b[0m\u001b[0;34m\"memory_map\"\u001b[0m\u001b[0;34m,\u001b[0m \u001b[0;32mFalse\u001b[0m\u001b[0;34m)\u001b[0m\u001b[0;34m,\u001b[0m\u001b[0;34m\u001b[0m\u001b[0;34m\u001b[0m\u001b[0m\n\u001b[1;32m    228\u001b[0m             \u001b[0mstorage_options\u001b[0m\u001b[0;34m=\u001b[0m\u001b[0mkwds\u001b[0m\u001b[0;34m.\u001b[0m\u001b[0mget\u001b[0m\u001b[0;34m(\u001b[0m\u001b[0;34m\"storage_options\"\u001b[0m\u001b[0;34m,\u001b[0m \u001b[0;32mNone\u001b[0m\u001b[0;34m)\u001b[0m\u001b[0;34m,\u001b[0m\u001b[0;34m\u001b[0m\u001b[0;34m\u001b[0m\u001b[0m\n\u001b[0;32m--> 229\u001b[0;31m             \u001b[0merrors\u001b[0m\u001b[0;34m=\u001b[0m\u001b[0mkwds\u001b[0m\u001b[0;34m.\u001b[0m\u001b[0mget\u001b[0m\u001b[0;34m(\u001b[0m\u001b[0;34m\"encoding_errors\"\u001b[0m\u001b[0;34m,\u001b[0m \u001b[0;34m\"strict\"\u001b[0m\u001b[0;34m)\u001b[0m\u001b[0;34m,\u001b[0m\u001b[0;34m\u001b[0m\u001b[0;34m\u001b[0m\u001b[0m\n\u001b[0m\u001b[1;32m    230\u001b[0m         )\n\u001b[1;32m    231\u001b[0m \u001b[0;34m\u001b[0m\u001b[0m\n",
            "\u001b[0;32m/usr/local/lib/python3.7/dist-packages/pandas/io/common.py\u001b[0m in \u001b[0;36mget_handle\u001b[0;34m(path_or_buf, mode, encoding, compression, memory_map, is_text, errors, storage_options)\u001b[0m\n\u001b[1;32m    705\u001b[0m                 \u001b[0mencoding\u001b[0m\u001b[0;34m=\u001b[0m\u001b[0mioargs\u001b[0m\u001b[0;34m.\u001b[0m\u001b[0mencoding\u001b[0m\u001b[0;34m,\u001b[0m\u001b[0;34m\u001b[0m\u001b[0;34m\u001b[0m\u001b[0m\n\u001b[1;32m    706\u001b[0m                 \u001b[0merrors\u001b[0m\u001b[0;34m=\u001b[0m\u001b[0merrors\u001b[0m\u001b[0;34m,\u001b[0m\u001b[0;34m\u001b[0m\u001b[0;34m\u001b[0m\u001b[0m\n\u001b[0;32m--> 707\u001b[0;31m                 \u001b[0mnewline\u001b[0m\u001b[0;34m=\u001b[0m\u001b[0;34m\"\"\u001b[0m\u001b[0;34m,\u001b[0m\u001b[0;34m\u001b[0m\u001b[0;34m\u001b[0m\u001b[0m\n\u001b[0m\u001b[1;32m    708\u001b[0m             )\n\u001b[1;32m    709\u001b[0m         \u001b[0;32melse\u001b[0m\u001b[0;34m:\u001b[0m\u001b[0;34m\u001b[0m\u001b[0;34m\u001b[0m\u001b[0m\n",
            "\u001b[0;31mFileNotFoundError\u001b[0m: [Errno 2] No such file or directory: 'probabilities.csv'"
          ]
        }
      ]
    },
    {
      "cell_type": "code",
      "source": [
        "# use the head function to print the first 10 rows of probabilities dataset\n",
        "probabilities.head()"
      ],
      "metadata": {
        "id": "5M-6S1f5siv5"
      },
      "execution_count": null,
      "outputs": []
    }
  ]
}