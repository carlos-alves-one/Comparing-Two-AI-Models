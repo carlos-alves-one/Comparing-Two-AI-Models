{
  "nbformat": 4,
  "nbformat_minor": 0,
  "metadata": {
    "colab": {
      "name": "Comparing-Two-AI-Models.ipynb",
      "provenance": [],
      "authorship_tag": "ABX9TyPuBRWvrwXvmFnjSKfnE92D",
      "include_colab_link": true
    },
    "kernelspec": {
      "name": "python3",
      "display_name": "Python 3"
    },
    "language_info": {
      "name": "python"
    }
  },
  "cells": [
    {
      "cell_type": "markdown",
      "metadata": {
        "id": "view-in-github",
        "colab_type": "text"
      },
      "source": [
        "<a href=\"https://colab.research.google.com/github/carlos-alves-one/Comparing-Two-AI-Models/blob/master/Comparing_Two_AI_Models.ipynb\" target=\"_parent\"><img src=\"https://colab.research.google.com/assets/colab-badge.svg\" alt=\"Open In Colab\"/></a>"
      ]
    },
    {
      "cell_type": "markdown",
      "source": [
        "## Goldsmiths University of London\n",
        "**Author....: Carlos Manuel de Oliveira Alves**<br>\n",
        "**Student..: cdeol003**<br>\n",
        "**Created..: 18/08/2022**"
      ],
      "metadata": {
        "id": "XJT1JaY2_J4s"
      }
    },
    {
      "cell_type": "code",
      "execution_count": null,
      "metadata": {
        "colab": {
          "base_uri": "https://localhost:8080/"
        },
        "id": "ejyDKAGp-9cS",
        "outputId": "4cb4260f-32e4-4751-bd71-190371b9f202"
      },
      "outputs": [
        {
          "output_type": "stream",
          "name": "stdout",
          "text": [
            "Reinitialized existing Git repository in /content/.git/\n"
          ]
        }
      ],
      "source": [
        "!git init"
      ]
    },
    {
      "cell_type": "code",
      "source": [
        "!git status"
      ],
      "metadata": {
        "colab": {
          "base_uri": "https://localhost:8080/"
        },
        "id": "rmd6uR56AoV-",
        "outputId": "ec162a0c-91d1-4f32-9102-ea733d4f9ef2"
      },
      "execution_count": null,
      "outputs": [
        {
          "output_type": "stream",
          "name": "stdout",
          "text": [
            "On branch master\n",
            "nothing to commit, working tree clean\n"
          ]
        }
      ]
    },
    {
      "cell_type": "code",
      "source": [
        "!git add ."
      ],
      "metadata": {
        "id": "I4U-YwPYAyiK"
      },
      "execution_count": null,
      "outputs": []
    },
    {
      "cell_type": "code",
      "source": [
        "!git commit -m \"Initial commit and headers\""
      ],
      "metadata": {
        "colab": {
          "base_uri": "https://localhost:8080/"
        },
        "id": "H6XgMCGfA4dI",
        "outputId": "d93e6b04-3d01-4d24-a7ff-48b43047ead4"
      },
      "execution_count": null,
      "outputs": [
        {
          "output_type": "stream",
          "name": "stdout",
          "text": [
            "[master (root-commit) 275342b] Initial commit and headers\n",
            " 19 files changed, 50771 insertions(+)\n",
            " create mode 100644 .config/.last_opt_in_prompt.yaml\n",
            " create mode 100644 .config/.last_survey_prompt.yaml\n",
            " create mode 100644 .config/.last_update_check.json\n",
            " create mode 100644 .config/active_config\n",
            " create mode 100644 .config/config_sentinel\n",
            " create mode 100644 .config/configurations/config_default\n",
            " create mode 100644 .config/gce\n",
            " create mode 100644 .config/logs/2022.08.15/13.43.32.260465.log\n",
            " create mode 100644 .config/logs/2022.08.15/13.43.53.840714.log\n",
            " create mode 100644 .config/logs/2022.08.15/13.44.12.999341.log\n",
            " create mode 100644 .config/logs/2022.08.15/13.44.20.441098.log\n",
            " create mode 100644 .config/logs/2022.08.15/13.44.40.370262.log\n",
            " create mode 100644 .config/logs/2022.08.15/13.44.41.125604.log\n",
            " create mode 100755 sample_data/README.md\n",
            " create mode 100755 sample_data/anscombe.json\n",
            " create mode 100644 sample_data/california_housing_test.csv\n",
            " create mode 100644 sample_data/california_housing_train.csv\n",
            " create mode 100644 sample_data/mnist_test.csv\n",
            " create mode 100644 sample_data/mnist_train_small.csv\n"
          ]
        }
      ]
    },
    {
      "cell_type": "code",
      "source": [
        "!git config --global user.email \"carlos.alves.one@gmail.com\""
      ],
      "metadata": {
        "id": "ljfGMkX8BCzT"
      },
      "execution_count": null,
      "outputs": []
    },
    {
      "cell_type": "code",
      "source": [
        "!git config --global user.name \"Carlos Alves\""
      ],
      "metadata": {
        "id": "7_l79Y3ZBLPS"
      },
      "execution_count": null,
      "outputs": []
    },
    {
      "cell_type": "code",
      "source": [
        "!git push -u origin main"
      ],
      "metadata": {
        "colab": {
          "base_uri": "https://localhost:8080/"
        },
        "id": "ynKdu1fNBwLN",
        "outputId": "a92298e1-a796-4172-8b53-ff52251242ba"
      },
      "execution_count": null,
      "outputs": [
        {
          "output_type": "stream",
          "name": "stdout",
          "text": [
            "error: src refspec main does not match any.\n",
            "error: failed to push some refs to 'git@github.com:carlos-alves-one/Harvard-Medical-AI.git'\n"
          ]
        }
      ]
    },
    {
      "cell_type": "code",
      "source": [
        ""
      ],
      "metadata": {
        "id": "q0kTo9ATEuhu"
      },
      "execution_count": null,
      "outputs": []
    }
  ]
}