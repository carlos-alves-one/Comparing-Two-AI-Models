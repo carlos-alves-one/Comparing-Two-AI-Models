{
  "nbformat": 4,
  "nbformat_minor": 0,
  "metadata": {
    "colab": {
      "name": "Comparing-Two-AI-Models.ipynb",
      "provenance": [],
      "collapsed_sections": [],
      "toc_visible": true,
      "authorship_tag": "ABX9TyPFMX4aRdx6rLFFR6NoGgw4",
      "include_colab_link": true
    },
    "kernelspec": {
      "name": "python3",
      "display_name": "Python 3"
    },
    "language_info": {
      "name": "python"
    }
  },
  "cells": [
    {
      "cell_type": "markdown",
      "metadata": {
        "id": "view-in-github",
        "colab_type": "text"
      },
      "source": [
        "<a href=\"https://colab.research.google.com/github/carlos-alves-one/Comparing-Two-AI-Models/blob/master/Comparing_Two_AI_Models.ipynb\" target=\"_parent\"><img src=\"https://colab.research.google.com/assets/colab-badge.svg\" alt=\"Open In Colab\"/></a>"
      ]
    },
    {
      "cell_type": "markdown",
      "source": [
        "## Goldsmiths University of London\n",
        "**Author....: Carlos Manuel de Oliveira Alves**<br>\n",
        "**Student..: cdeol003**<br>\n",
        "**Created..: 18/08/2022**"
      ],
      "metadata": {
        "id": "XJT1JaY2_J4s"
      }
    },
    {
      "cell_type": "markdown",
      "source": [
        "## Generate Sample Data"
      ],
      "metadata": {
        "id": "jED5P8AygVrc"
      }
    },
    {
      "cell_type": "code",
      "source": [
        "# import libraries\n",
        "import numpy as np      # linear algebra\n",
        "import pandas as pd     # data processing, CSV file I/O (e.g. pd.read_csv)\n",
        "from scipy import stats # statistics\n",
        "import sklearn.metrics as metrics\n",
        "import matplotlib.pyplot as plt # ploting the data\n",
        "import random"
      ],
      "metadata": {
        "id": "f-6m7Mr8IMZ7"
      },
      "execution_count": 2,
      "outputs": []
    },
    {
      "cell_type": "code",
      "source": [
        "# generate sample BLEU scores for paired t-test\n",
        "from numpy import random\n",
        "random.seed(0) # seed() method is used to initialize the random number generator\n",
        "\n",
        "# make bleu_x mean 0.63\n",
        "bleu_x = random.randint(0, 40, size = 500) / 100\n",
        "bleu_x = bleu_x - np.mean(bleu_x) + 0.63\n",
        "\n",
        "# make bleu_y mean 0.44\n",
        "bleu_y = random.randint(0, 70, size = 500) / 100\n",
        "bleu_y = bleu_y - np.mean(bleu_y) + 0.44\n",
        "\n",
        "# create a dictionary with the bleu's and store it in a file\n",
        "bleu_dict = {\"model1\": bleu_x, \"model2\": bleu_y}\n",
        "bleu_save = pd.DataFrame.from_dict(bleu_dict)\n",
        "bleu_save.to_csv('bleu_scores.csv')\n"
      ],
      "metadata": {
        "id": "wjsrp1ULULiY"
      },
      "execution_count": 3,
      "outputs": []
    },
    {
      "cell_type": "markdown",
      "source": [
        "## Paired t-test"
      ],
      "metadata": {
        "id": "vAZyacsVkJeh"
      }
    },
    {
      "cell_type": "markdown",
      "source": [
        "## Problem:\n",
        "**Model 1 BLEU scores $= x = (x_1, x_2,...,x_{500})$**<br>\n",
        "**Model 2 BLEU scores $= y = (y_1, y_2,...,y_{500})$**<br>\n",
        "**Difference $= d = x - y$**<br>"
      ],
      "metadata": {
        "id": "RK8Sf8cckQuR"
      }
    },
    {
      "cell_type": "code",
      "source": [
        ""
      ],
      "metadata": {
        "id": "iaxdHX02kNqK"
      },
      "execution_count": null,
      "outputs": []
    }
  ]
}